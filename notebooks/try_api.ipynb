{
 "cells": [
  {
   "cell_type": "code",
   "execution_count": 1,
   "metadata": {},
   "outputs": [],
   "source": [
    "# load key libraries\n",
    "import numpy as np\n",
    "import pandas as pd\n",
    "import requests"
   ]
  },
  {
   "cell_type": "code",
   "execution_count": null,
   "metadata": {},
   "outputs": [],
   "source": [
    "# to run docker docker run -d --name deployeract -p 8080:8080 "
   ]
  },
  {
   "cell_type": "code",
   "execution_count": 10,
   "metadata": {},
   "outputs": [],
   "source": [
    "url_api_docker = \"http://localhost:8080/predict\"\n",
    "url_api_local = \"http://localhost:8000/predict\"\n",
    "url_api_to_use = url_api_docker"
   ]
  },
  {
   "cell_type": "code",
   "execution_count": 11,
   "metadata": {},
   "outputs": [],
   "source": [
    "# create a fictitious policyholder\n",
    "policyholder_dict = {'VehBrand': 'B12',\n",
    " 'VehGas': 'Diesel',\n",
    " 'Region': 'R72',\n",
    " 'Area': 'C',\n",
    " 'VehPower': 7,\n",
    " 'VehAge': 3,\n",
    " 'DrivAge': 20,\n",
    " 'Density': 100,\n",
    " 'BonusMalus': 120}"
   ]
  },
  {
   "cell_type": "code",
   "execution_count": 14,
   "metadata": {},
   "outputs": [
    {
     "name": "stdout",
     "output_type": "stream",
     "text": [
      "Risposta: {'Frequency': 0.16301376491677777, 'Severity': 2668.6841471493244, 'Pure_Premium': 435.03225020053156}\n"
     ]
    }
   ],
   "source": [
    "# Invia la richiesta POST\n",
    "response = requests.post(url_api_to_use, json=policyholder_dict)\n",
    "\n",
    "# Verifica la risposta\n",
    "if response.status_code == 200:\n",
    "    print(\"Risposta:\", response.json())\n",
    "else:\n",
    "    print(\"Errore:\", response.status_code, response.text)"
   ]
  },
  {
   "cell_type": "code",
   "execution_count": null,
   "metadata": {},
   "outputs": [],
   "source": []
  }
 ],
 "metadata": {
  "kernelspec": {
   "display_name": "deployer",
   "language": "python",
   "name": "python3"
  },
  "language_info": {
   "codemirror_mode": {
    "name": "ipython",
    "version": 3
   },
   "file_extension": ".py",
   "mimetype": "text/x-python",
   "name": "python",
   "nbconvert_exporter": "python",
   "pygments_lexer": "ipython3",
   "version": "3.12.6"
  }
 },
 "nbformat": 4,
 "nbformat_minor": 2
}
