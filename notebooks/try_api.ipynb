{
 "cells": [
  {
   "cell_type": "code",
   "execution_count": 1,
   "metadata": {},
   "outputs": [],
   "source": [
    "# load key libraries\n",
    "import numpy as np\n",
    "import pandas as pd\n",
    "import requests"
   ]
  },
  {
   "cell_type": "code",
   "execution_count": 3,
   "metadata": {},
   "outputs": [],
   "source": [
    "url_api = \"http://localhost:8080/predict\""
   ]
  },
  {
   "cell_type": "code",
   "execution_count": 14,
   "metadata": {},
   "outputs": [],
   "source": [
    "# create a fictitious policyholder\n",
    "policyholder_dict = {'VehBrand': 'B12',\n",
    " 'VehGas': 'Diesel',\n",
    " 'Region': 'R72',\n",
    " 'Area': 'C',\n",
    " 'VehPower': 7,\n",
    " 'VehAge': 0,\n",
    " 'DrivAge': 47,\n",
    " 'Density': 56,\n",
    " 'BonusMalus': 120}"
   ]
  },
  {
   "cell_type": "code",
   "execution_count": 15,
   "metadata": {},
   "outputs": [
    {
     "name": "stdout",
     "output_type": "stream",
     "text": [
      "Risposta: {'Frequency': 0.12489319170535253, 'Severity': 2497.301008582115, 'Pure Premium': 311.8958936108163}\n"
     ]
    }
   ],
   "source": [
    "# Invia la richiesta POST\n",
    "response = requests.post(url_api, json=policyholder_dict)\n",
    "\n",
    "# Verifica la risposta\n",
    "if response.status_code == 200:\n",
    "    print(\"Risposta:\", response.json())\n",
    "else:\n",
    "    print(\"Errore:\", response.status_code, response.text)"
   ]
  },
  {
   "cell_type": "code",
   "execution_count": null,
   "metadata": {},
   "outputs": [],
   "source": []
  }
 ],
 "metadata": {
  "kernelspec": {
   "display_name": "deployer",
   "language": "python",
   "name": "python3"
  },
  "language_info": {
   "codemirror_mode": {
    "name": "ipython",
    "version": 3
   },
   "file_extension": ".py",
   "mimetype": "text/x-python",
   "name": "python",
   "nbconvert_exporter": "python",
   "pygments_lexer": "ipython3",
   "version": "3.11.9"
  }
 },
 "nbformat": 4,
 "nbformat_minor": 2
}
